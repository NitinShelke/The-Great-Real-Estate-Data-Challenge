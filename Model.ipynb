{
 "cells": [
  {
   "cell_type": "markdown",
   "id": "bcc65880",
   "metadata": {},
   "source": [
    "# import the libraries"
   ]
  },
  {
   "cell_type": "code",
   "execution_count": 73,
   "id": "2b21b588",
   "metadata": {},
   "outputs": [],
   "source": [
    "import pandas as pd\n",
    "import numpy as np\n",
    "\n",
    "import warnings\n",
    "warnings.filterwarnings(\"ignore\")\n",
    "\n",
    "from matplotlib import pyplot as plt\n",
    "import seaborn as sns\n",
    "\n",
    "%matplotlib inline\n",
    "from utils import *\n",
    "\n",
    "sns.set_style(\"darkgrid\")"
   ]
  },
  {
   "cell_type": "markdown",
   "id": "85764df6",
   "metadata": {},
   "source": [
    "# read the data"
   ]
  },
  {
   "cell_type": "code",
   "execution_count": 139,
   "id": "1b22a9b9",
   "metadata": {},
   "outputs": [],
   "source": [
    "train=pd.read_csv(\"train.csv\")\n",
    "test=pd.read_csv(\"test.csv\")"
   ]
  },
  {
   "cell_type": "markdown",
   "id": "025b2342",
   "metadata": {},
   "source": [
    "# EDA"
   ]
  },
  {
   "cell_type": "code",
   "execution_count": 75,
   "id": "8a25ae66",
   "metadata": {},
   "outputs": [
    {
     "name": "stdout",
     "output_type": "stream",
     "text": [
      "<class 'pandas.core.frame.DataFrame'>\n",
      "RangeIndex: 553952 entries, 0 to 553951\n",
      "Data columns (total 11 columns):\n",
      " #   Column             Non-Null Count   Dtype  \n",
      "---  ------             --------------   -----  \n",
      " 0   Year               553952 non-null  int64  \n",
      " 1   Date               553952 non-null  object \n",
      " 2   Locality           553952 non-null  object \n",
      " 3   Address            553952 non-null  object \n",
      " 4   Estimated Value    553952 non-null  float64\n",
      " 5   Sale Price         553952 non-null  float64\n",
      " 6   Property           553952 non-null  object \n",
      " 7   Residential        553952 non-null  object \n",
      " 8   num_rooms          553952 non-null  int64  \n",
      " 9   carpet_area        553952 non-null  int64  \n",
      " 10  property_tax_rate  553952 non-null  float64\n",
      "dtypes: float64(3), int64(3), object(5)\n",
      "memory usage: 46.5+ MB\n"
     ]
    }
   ],
   "source": [
    "train.info()"
   ]
  },
  {
   "cell_type": "raw",
   "id": "3866ce02",
   "metadata": {},
   "source": [
    "Observations:\n",
    "    total number of features=11\n",
    "    category features=5\n",
    "    numerical features=5\n",
    "    date columns is object. need to convert it to datetime\n",
    "    "
   ]
  },
  {
   "cell_type": "code",
   "execution_count": 76,
   "id": "43ad14d0",
   "metadata": {},
   "outputs": [
    {
     "data": {
      "text/html": [
       "<div>\n",
       "<style scoped>\n",
       "    .dataframe tbody tr th:only-of-type {\n",
       "        vertical-align: middle;\n",
       "    }\n",
       "\n",
       "    .dataframe tbody tr th {\n",
       "        vertical-align: top;\n",
       "    }\n",
       "\n",
       "    .dataframe thead th {\n",
       "        text-align: right;\n",
       "    }\n",
       "</style>\n",
       "<table border=\"1\" class=\"dataframe\">\n",
       "  <thead>\n",
       "    <tr style=\"text-align: right;\">\n",
       "      <th></th>\n",
       "      <th>Year</th>\n",
       "      <th>Date</th>\n",
       "      <th>Locality</th>\n",
       "      <th>Address</th>\n",
       "      <th>Estimated Value</th>\n",
       "      <th>Sale Price</th>\n",
       "      <th>Property</th>\n",
       "      <th>Residential</th>\n",
       "      <th>num_rooms</th>\n",
       "      <th>carpet_area</th>\n",
       "      <th>property_tax_rate</th>\n",
       "    </tr>\n",
       "  </thead>\n",
       "  <tbody>\n",
       "    <tr>\n",
       "      <th>0</th>\n",
       "      <td>2009</td>\n",
       "      <td>2009-01-02</td>\n",
       "      <td>Greenwich</td>\n",
       "      <td>40 ETTL LN UT 24</td>\n",
       "      <td>711270.0</td>\n",
       "      <td>975000.0</td>\n",
       "      <td>Condo</td>\n",
       "      <td>Condominium</td>\n",
       "      <td>2</td>\n",
       "      <td>760</td>\n",
       "      <td>1.025953</td>\n",
       "    </tr>\n",
       "    <tr>\n",
       "      <th>1</th>\n",
       "      <td>2009</td>\n",
       "      <td>2009-01-02</td>\n",
       "      <td>East Hampton</td>\n",
       "      <td>18 BAUER RD</td>\n",
       "      <td>119970.0</td>\n",
       "      <td>189900.0</td>\n",
       "      <td>Single Family</td>\n",
       "      <td>Detached House</td>\n",
       "      <td>3</td>\n",
       "      <td>921</td>\n",
       "      <td>1.025953</td>\n",
       "    </tr>\n",
       "    <tr>\n",
       "      <th>2</th>\n",
       "      <td>2009</td>\n",
       "      <td>2009-01-02</td>\n",
       "      <td>Ridgefield</td>\n",
       "      <td>48 HIGH VALLEY RD.</td>\n",
       "      <td>494530.0</td>\n",
       "      <td>825000.0</td>\n",
       "      <td>Single Family</td>\n",
       "      <td>Detached House</td>\n",
       "      <td>3</td>\n",
       "      <td>982</td>\n",
       "      <td>1.025953</td>\n",
       "    </tr>\n",
       "    <tr>\n",
       "      <th>3</th>\n",
       "      <td>2009</td>\n",
       "      <td>2009-01-02</td>\n",
       "      <td>Old Lyme</td>\n",
       "      <td>56 MERIDEN RD</td>\n",
       "      <td>197600.0</td>\n",
       "      <td>450000.0</td>\n",
       "      <td>Single Family</td>\n",
       "      <td>Detached House</td>\n",
       "      <td>3</td>\n",
       "      <td>976</td>\n",
       "      <td>1.025953</td>\n",
       "    </tr>\n",
       "    <tr>\n",
       "      <th>4</th>\n",
       "      <td>2009</td>\n",
       "      <td>2009-01-02</td>\n",
       "      <td>Naugatuck</td>\n",
       "      <td>13 CELENTANO DR</td>\n",
       "      <td>105440.0</td>\n",
       "      <td>200000.0</td>\n",
       "      <td>Single Family</td>\n",
       "      <td>Detached House</td>\n",
       "      <td>3</td>\n",
       "      <td>947</td>\n",
       "      <td>1.025953</td>\n",
       "    </tr>\n",
       "  </tbody>\n",
       "</table>\n",
       "</div>"
      ],
      "text/plain": [
       "   Year        Date      Locality             Address  Estimated Value  \\\n",
       "0  2009  2009-01-02     Greenwich    40 ETTL LN UT 24         711270.0   \n",
       "1  2009  2009-01-02  East Hampton         18 BAUER RD         119970.0   \n",
       "2  2009  2009-01-02    Ridgefield  48 HIGH VALLEY RD.         494530.0   \n",
       "3  2009  2009-01-02      Old Lyme       56 MERIDEN RD         197600.0   \n",
       "4  2009  2009-01-02     Naugatuck     13 CELENTANO DR         105440.0   \n",
       "\n",
       "   Sale Price       Property     Residential  num_rooms  carpet_area  \\\n",
       "0    975000.0          Condo     Condominium          2          760   \n",
       "1    189900.0  Single Family  Detached House          3          921   \n",
       "2    825000.0  Single Family  Detached House          3          982   \n",
       "3    450000.0  Single Family  Detached House          3          976   \n",
       "4    200000.0  Single Family  Detached House          3          947   \n",
       "\n",
       "   property_tax_rate  \n",
       "0           1.025953  \n",
       "1           1.025953  \n",
       "2           1.025953  \n",
       "3           1.025953  \n",
       "4           1.025953  "
      ]
     },
     "execution_count": 76,
     "metadata": {},
     "output_type": "execute_result"
    }
   ],
   "source": [
    "train.head()"
   ]
  },
  {
   "cell_type": "code",
   "execution_count": 77,
   "id": "cfc0cb53",
   "metadata": {},
   "outputs": [
    {
     "data": {
      "text/html": [
       "<div>\n",
       "<style scoped>\n",
       "    .dataframe tbody tr th:only-of-type {\n",
       "        vertical-align: middle;\n",
       "    }\n",
       "\n",
       "    .dataframe tbody tr th {\n",
       "        vertical-align: top;\n",
       "    }\n",
       "\n",
       "    .dataframe thead th {\n",
       "        text-align: right;\n",
       "    }\n",
       "</style>\n",
       "<table border=\"1\" class=\"dataframe\">\n",
       "  <thead>\n",
       "    <tr style=\"text-align: right;\">\n",
       "      <th></th>\n",
       "      <th>Year</th>\n",
       "      <th>Date</th>\n",
       "      <th>Locality</th>\n",
       "      <th>Address</th>\n",
       "      <th>Estimated Value</th>\n",
       "      <th>Sale Price</th>\n",
       "      <th>Property</th>\n",
       "      <th>Residential</th>\n",
       "      <th>num_rooms</th>\n",
       "      <th>carpet_area</th>\n",
       "      <th>property_tax_rate</th>\n",
       "    </tr>\n",
       "  </thead>\n",
       "  <tbody>\n",
       "    <tr>\n",
       "      <th>553947</th>\n",
       "      <td>2022</td>\n",
       "      <td>2022-12-31</td>\n",
       "      <td>Enfield</td>\n",
       "      <td>50 SWORD AVE</td>\n",
       "      <td>122420.0</td>\n",
       "      <td>198000.0</td>\n",
       "      <td>Residential</td>\n",
       "      <td>Detached House</td>\n",
       "      <td>3</td>\n",
       "      <td>1009</td>\n",
       "      <td>1.003979</td>\n",
       "    </tr>\n",
       "    <tr>\n",
       "      <th>553948</th>\n",
       "      <td>2022</td>\n",
       "      <td>2022-12-31</td>\n",
       "      <td>Naugatuck</td>\n",
       "      <td>10 ROLLINGWOOD DR</td>\n",
       "      <td>139180.0</td>\n",
       "      <td>319900.0</td>\n",
       "      <td>Residential</td>\n",
       "      <td>Detached House</td>\n",
       "      <td>3</td>\n",
       "      <td>999</td>\n",
       "      <td>1.003979</td>\n",
       "    </tr>\n",
       "    <tr>\n",
       "      <th>553949</th>\n",
       "      <td>2022</td>\n",
       "      <td>2022-12-31</td>\n",
       "      <td>South Windsor</td>\n",
       "      <td>189 PALMER DR</td>\n",
       "      <td>200000.0</td>\n",
       "      <td>305000.0</td>\n",
       "      <td>Residential</td>\n",
       "      <td>Detached House</td>\n",
       "      <td>3</td>\n",
       "      <td>1017</td>\n",
       "      <td>1.003979</td>\n",
       "    </tr>\n",
       "    <tr>\n",
       "      <th>553950</th>\n",
       "      <td>2022</td>\n",
       "      <td>2022-12-31</td>\n",
       "      <td>Bloomfield</td>\n",
       "      <td>33 BURNWOOD DRIVE</td>\n",
       "      <td>195440.0</td>\n",
       "      <td>271000.0</td>\n",
       "      <td>Residential</td>\n",
       "      <td>Detached House</td>\n",
       "      <td>3</td>\n",
       "      <td>1061</td>\n",
       "      <td>1.003979</td>\n",
       "    </tr>\n",
       "    <tr>\n",
       "      <th>553951</th>\n",
       "      <td>2022</td>\n",
       "      <td>2022-12-31</td>\n",
       "      <td>Stamford</td>\n",
       "      <td>154 GAYMOOR DRIVE</td>\n",
       "      <td>346600.0</td>\n",
       "      <td>500000.0</td>\n",
       "      <td>Residential</td>\n",
       "      <td>Detached House</td>\n",
       "      <td>3</td>\n",
       "      <td>1003</td>\n",
       "      <td>1.003979</td>\n",
       "    </tr>\n",
       "  </tbody>\n",
       "</table>\n",
       "</div>"
      ],
      "text/plain": [
       "        Year        Date       Locality            Address  Estimated Value  \\\n",
       "553947  2022  2022-12-31        Enfield       50 SWORD AVE         122420.0   \n",
       "553948  2022  2022-12-31      Naugatuck  10 ROLLINGWOOD DR         139180.0   \n",
       "553949  2022  2022-12-31  South Windsor      189 PALMER DR         200000.0   \n",
       "553950  2022  2022-12-31     Bloomfield  33 BURNWOOD DRIVE         195440.0   \n",
       "553951  2022  2022-12-31       Stamford  154 GAYMOOR DRIVE         346600.0   \n",
       "\n",
       "        Sale Price     Property     Residential  num_rooms  carpet_area  \\\n",
       "553947    198000.0  Residential  Detached House          3         1009   \n",
       "553948    319900.0  Residential  Detached House          3          999   \n",
       "553949    305000.0  Residential  Detached House          3         1017   \n",
       "553950    271000.0  Residential  Detached House          3         1061   \n",
       "553951    500000.0  Residential  Detached House          3         1003   \n",
       "\n",
       "        property_tax_rate  \n",
       "553947           1.003979  \n",
       "553948           1.003979  \n",
       "553949           1.003979  \n",
       "553950           1.003979  \n",
       "553951           1.003979  "
      ]
     },
     "execution_count": 77,
     "metadata": {},
     "output_type": "execute_result"
    }
   ],
   "source": [
    "train.tail()"
   ]
  },
  {
   "cell_type": "markdown",
   "id": "493c6e9c",
   "metadata": {},
   "source": [
    "# checking and handling null values"
   ]
  },
  {
   "cell_type": "code",
   "execution_count": 78,
   "id": "992c2d35",
   "metadata": {},
   "outputs": [
    {
     "data": {
      "text/plain": [
       "Year                 0\n",
       "Date                 0\n",
       "Locality             0\n",
       "Address              0\n",
       "Estimated Value      0\n",
       "Sale Price           0\n",
       "Property             0\n",
       "Residential          0\n",
       "num_rooms            0\n",
       "carpet_area          0\n",
       "property_tax_rate    0\n",
       "dtype: int64"
      ]
     },
     "execution_count": 78,
     "metadata": {},
     "output_type": "execute_result"
    }
   ],
   "source": [
    "train.isna().sum()"
   ]
  },
  {
   "cell_type": "raw",
   "id": "2fcb0692",
   "metadata": {},
   "source": [
    "There are no null values in the data."
   ]
  },
  {
   "cell_type": "markdown",
   "id": "01f34e5e",
   "metadata": {},
   "source": [
    "\n",
    "\n",
    "# Duplicate data handling"
   ]
  },
  {
   "cell_type": "code",
   "execution_count": 79,
   "id": "e670dd6b",
   "metadata": {},
   "outputs": [
    {
     "data": {
      "text/plain": [
       "18"
      ]
     },
     "execution_count": 79,
     "metadata": {},
     "output_type": "execute_result"
    }
   ],
   "source": [
    "train.duplicated().sum()"
   ]
  },
  {
   "cell_type": "code",
   "execution_count": 80,
   "id": "86b6626c",
   "metadata": {},
   "outputs": [],
   "source": [
    "# there are 18 duplicates in the data.\n",
    "# duplicates are removed with the below code\n",
    "train.drop_duplicates(inplace=True,ignore_index=True)"
   ]
  },
  {
   "cell_type": "markdown",
   "id": "639dc654",
   "metadata": {},
   "source": [
    "# Converting date column to datetime"
   ]
  },
  {
   "cell_type": "code",
   "execution_count": 81,
   "id": "20b3b037",
   "metadata": {},
   "outputs": [],
   "source": [
    "train['Date']=pd.to_datetime(train['Date'],format=\"%Y-%m-%d\")"
   ]
  },
  {
   "cell_type": "code",
   "execution_count": 82,
   "id": "73ce03e2",
   "metadata": {
    "scrolled": true
   },
   "outputs": [
    {
     "data": {
      "text/html": [
       "<div>\n",
       "<style scoped>\n",
       "    .dataframe tbody tr th:only-of-type {\n",
       "        vertical-align: middle;\n",
       "    }\n",
       "\n",
       "    .dataframe tbody tr th {\n",
       "        vertical-align: top;\n",
       "    }\n",
       "\n",
       "    .dataframe thead th {\n",
       "        text-align: right;\n",
       "    }\n",
       "</style>\n",
       "<table border=\"1\" class=\"dataframe\">\n",
       "  <thead>\n",
       "    <tr style=\"text-align: right;\">\n",
       "      <th></th>\n",
       "      <th>Year</th>\n",
       "      <th>Estimated Value</th>\n",
       "      <th>Sale Price</th>\n",
       "      <th>num_rooms</th>\n",
       "      <th>carpet_area</th>\n",
       "      <th>property_tax_rate</th>\n",
       "    </tr>\n",
       "  </thead>\n",
       "  <tbody>\n",
       "    <tr>\n",
       "      <th>count</th>\n",
       "      <td>553934.000000</td>\n",
       "      <td>5.539340e+05</td>\n",
       "      <td>5.539340e+05</td>\n",
       "      <td>553934.000000</td>\n",
       "      <td>553934.000000</td>\n",
       "      <td>553934.000000</td>\n",
       "    </tr>\n",
       "    <tr>\n",
       "      <th>mean</th>\n",
       "      <td>2016.118543</td>\n",
       "      <td>2.492237e+05</td>\n",
       "      <td>3.514695e+05</td>\n",
       "      <td>2.944443</td>\n",
       "      <td>988.756455</td>\n",
       "      <td>1.142288</td>\n",
       "    </tr>\n",
       "    <tr>\n",
       "      <th>std</th>\n",
       "      <td>4.146523</td>\n",
       "      <td>1.288904e+06</td>\n",
       "      <td>6.708997e+05</td>\n",
       "      <td>0.734615</td>\n",
       "      <td>247.022579</td>\n",
       "      <td>0.168563</td>\n",
       "    </tr>\n",
       "    <tr>\n",
       "      <th>min</th>\n",
       "      <td>2009.000000</td>\n",
       "      <td>0.000000e+00</td>\n",
       "      <td>0.000000e+00</td>\n",
       "      <td>2.000000</td>\n",
       "      <td>600.000000</td>\n",
       "      <td>1.003979</td>\n",
       "    </tr>\n",
       "    <tr>\n",
       "      <th>25%</th>\n",
       "      <td>2012.000000</td>\n",
       "      <td>1.113700e+05</td>\n",
       "      <td>1.480000e+05</td>\n",
       "      <td>3.000000</td>\n",
       "      <td>915.000000</td>\n",
       "      <td>1.023495</td>\n",
       "    </tr>\n",
       "    <tr>\n",
       "      <th>50%</th>\n",
       "      <td>2017.000000</td>\n",
       "      <td>1.603000e+05</td>\n",
       "      <td>2.300000e+05</td>\n",
       "      <td>3.000000</td>\n",
       "      <td>984.000000</td>\n",
       "      <td>1.025846</td>\n",
       "    </tr>\n",
       "    <tr>\n",
       "      <th>75%</th>\n",
       "      <td>2020.000000</td>\n",
       "      <td>2.484000e+05</td>\n",
       "      <td>3.647000e+05</td>\n",
       "      <td>3.000000</td>\n",
       "      <td>1053.000000</td>\n",
       "      <td>1.348259</td>\n",
       "    </tr>\n",
       "    <tr>\n",
       "      <th>max</th>\n",
       "      <td>2022.000000</td>\n",
       "      <td>8.815100e+08</td>\n",
       "      <td>1.570000e+08</td>\n",
       "      <td>8.000000</td>\n",
       "      <td>3000.000000</td>\n",
       "      <td>1.422308</td>\n",
       "    </tr>\n",
       "  </tbody>\n",
       "</table>\n",
       "</div>"
      ],
      "text/plain": [
       "                Year  Estimated Value    Sale Price      num_rooms  \\\n",
       "count  553934.000000     5.539340e+05  5.539340e+05  553934.000000   \n",
       "mean     2016.118543     2.492237e+05  3.514695e+05       2.944443   \n",
       "std         4.146523     1.288904e+06  6.708997e+05       0.734615   \n",
       "min      2009.000000     0.000000e+00  0.000000e+00       2.000000   \n",
       "25%      2012.000000     1.113700e+05  1.480000e+05       3.000000   \n",
       "50%      2017.000000     1.603000e+05  2.300000e+05       3.000000   \n",
       "75%      2020.000000     2.484000e+05  3.647000e+05       3.000000   \n",
       "max      2022.000000     8.815100e+08  1.570000e+08       8.000000   \n",
       "\n",
       "         carpet_area  property_tax_rate  \n",
       "count  553934.000000      553934.000000  \n",
       "mean      988.756455           1.142288  \n",
       "std       247.022579           0.168563  \n",
       "min       600.000000           1.003979  \n",
       "25%       915.000000           1.023495  \n",
       "50%       984.000000           1.025846  \n",
       "75%      1053.000000           1.348259  \n",
       "max      3000.000000           1.422308  "
      ]
     },
     "execution_count": 82,
     "metadata": {},
     "output_type": "execute_result"
    }
   ],
   "source": [
    "train.describe()"
   ]
  },
  {
   "cell_type": "code",
   "execution_count": 83,
   "id": "8f074639",
   "metadata": {
    "scrolled": true
   },
   "outputs": [
    {
     "data": {
      "text/html": [
       "<div>\n",
       "<style scoped>\n",
       "    .dataframe tbody tr th:only-of-type {\n",
       "        vertical-align: middle;\n",
       "    }\n",
       "\n",
       "    .dataframe tbody tr th {\n",
       "        vertical-align: top;\n",
       "    }\n",
       "\n",
       "    .dataframe thead th {\n",
       "        text-align: right;\n",
       "    }\n",
       "</style>\n",
       "<table border=\"1\" class=\"dataframe\">\n",
       "  <thead>\n",
       "    <tr style=\"text-align: right;\">\n",
       "      <th></th>\n",
       "      <th>Year</th>\n",
       "      <th>Estimated Value</th>\n",
       "      <th>Sale Price</th>\n",
       "      <th>num_rooms</th>\n",
       "      <th>carpet_area</th>\n",
       "      <th>property_tax_rate</th>\n",
       "    </tr>\n",
       "  </thead>\n",
       "  <tbody>\n",
       "    <tr>\n",
       "      <th>Year</th>\n",
       "      <td>1.000000</td>\n",
       "      <td>-0.004039</td>\n",
       "      <td>-0.005003</td>\n",
       "      <td>0.005263</td>\n",
       "      <td>0.003912</td>\n",
       "      <td>0.016328</td>\n",
       "    </tr>\n",
       "    <tr>\n",
       "      <th>Estimated Value</th>\n",
       "      <td>-0.004039</td>\n",
       "      <td>1.000000</td>\n",
       "      <td>0.220932</td>\n",
       "      <td>0.000469</td>\n",
       "      <td>-0.000795</td>\n",
       "      <td>-0.004265</td>\n",
       "    </tr>\n",
       "    <tr>\n",
       "      <th>Sale Price</th>\n",
       "      <td>-0.005003</td>\n",
       "      <td>0.220932</td>\n",
       "      <td>1.000000</td>\n",
       "      <td>-0.004875</td>\n",
       "      <td>-0.009121</td>\n",
       "      <td>-0.008673</td>\n",
       "    </tr>\n",
       "    <tr>\n",
       "      <th>num_rooms</th>\n",
       "      <td>0.005263</td>\n",
       "      <td>0.000469</td>\n",
       "      <td>-0.004875</td>\n",
       "      <td>1.000000</td>\n",
       "      <td>0.966361</td>\n",
       "      <td>-0.003263</td>\n",
       "    </tr>\n",
       "    <tr>\n",
       "      <th>carpet_area</th>\n",
       "      <td>0.003912</td>\n",
       "      <td>-0.000795</td>\n",
       "      <td>-0.009121</td>\n",
       "      <td>0.966361</td>\n",
       "      <td>1.000000</td>\n",
       "      <td>-0.003813</td>\n",
       "    </tr>\n",
       "    <tr>\n",
       "      <th>property_tax_rate</th>\n",
       "      <td>0.016328</td>\n",
       "      <td>-0.004265</td>\n",
       "      <td>-0.008673</td>\n",
       "      <td>-0.003263</td>\n",
       "      <td>-0.003813</td>\n",
       "      <td>1.000000</td>\n",
       "    </tr>\n",
       "  </tbody>\n",
       "</table>\n",
       "</div>"
      ],
      "text/plain": [
       "                       Year  Estimated Value  Sale Price  num_rooms  \\\n",
       "Year               1.000000        -0.004039   -0.005003   0.005263   \n",
       "Estimated Value   -0.004039         1.000000    0.220932   0.000469   \n",
       "Sale Price        -0.005003         0.220932    1.000000  -0.004875   \n",
       "num_rooms          0.005263         0.000469   -0.004875   1.000000   \n",
       "carpet_area        0.003912        -0.000795   -0.009121   0.966361   \n",
       "property_tax_rate  0.016328        -0.004265   -0.008673  -0.003263   \n",
       "\n",
       "                   carpet_area  property_tax_rate  \n",
       "Year                  0.003912           0.016328  \n",
       "Estimated Value      -0.000795          -0.004265  \n",
       "Sale Price           -0.009121          -0.008673  \n",
       "num_rooms             0.966361          -0.003263  \n",
       "carpet_area           1.000000          -0.003813  \n",
       "property_tax_rate    -0.003813           1.000000  "
      ]
     },
     "execution_count": 83,
     "metadata": {},
     "output_type": "execute_result"
    }
   ],
   "source": [
    "train.corr(numeric_only=True)"
   ]
  },
  {
   "cell_type": "markdown",
   "id": "71aeaaef",
   "metadata": {},
   "source": [
    "# Correlation analysis"
   ]
  },
  {
   "cell_type": "code",
   "execution_count": 84,
   "id": "c889fceb",
   "metadata": {},
   "outputs": [
    {
     "data": {
      "text/plain": [
       "<AxesSubplot: >"
      ]
     },
     "execution_count": 84,
     "metadata": {},
     "output_type": "execute_result"
    },
    {
     "data": {
      "image/png": "[encoded data removed]",
      "text/plain": [
       "<Figure size 720x432 with 2 Axes>"
      ]
     },
     "metadata": {},
     "output_type": "display_data"
    }
   ],
   "source": [
    "plt.figure(figsize=(10,6))\n",
    "sns.heatmap(train.corr(numeric_only=True),annot=True,cmap='jet')"
   ]
  },
  {
   "cell_type": "raw",
   "id": "3332f788",
   "metadata": {},
   "source": [
    "Observation:\n",
    "    carpet_area and num_rooms are highly correlated features"
   ]
  },
  {
   "cell_type": "code",
   "execution_count": 85,
   "id": "a0d5f611",
   "metadata": {},
   "outputs": [],
   "source": [
    "train.drop('carpet_area',axis=1,inplace=True)"
   ]
  },
  {
   "cell_type": "markdown",
   "id": "cecaba59",
   "metadata": {},
   "source": [
    "# Cardinality check"
   ]
  },
  {
   "cell_type": "code",
   "execution_count": 86,
   "id": "12e38013",
   "metadata": {},
   "outputs": [
    {
     "name": "stdout",
     "output_type": "stream",
     "text": [
      "Locality------------170\n",
      "\n",
      "Address------------441774\n",
      "\n",
      "Property------------6\n",
      "\n",
      "Residential------------5\n",
      "\n"
     ]
    }
   ],
   "source": [
    "for col in train.select_dtypes(include='object'):\n",
    "    print(\"{}------------{}\\n\".format(col,train[col].nunique()))"
   ]
  },
  {
   "cell_type": "raw",
   "id": "2ffc4c96",
   "metadata": {},
   "source": [
    "onservation:\n",
    "    Address column has very high cardinality. we will drop it.\n",
    "    locality has 170 cardinality. we will try hash encoding or frquecy encoding."
   ]
  },
  {
   "cell_type": "code",
   "execution_count": 87,
   "id": "12e795cf",
   "metadata": {},
   "outputs": [],
   "source": [
    "train.drop(\"Address\",axis=1,inplace=True)"
   ]
  },
  {
   "cell_type": "code",
   "execution_count": 88,
   "id": "7d45e7ba",
   "metadata": {},
   "outputs": [
    {
     "data": {
      "text/plain": [
       "<AxesSubplot: >"
      ]
     },
     "execution_count": 88,
     "metadata": {},
     "output_type": "execute_result"
    },
    {
     "data": {
      "image/png": "[encoded data removed]",
      "text/plain": [
       "<Figure size 432x288 with 1 Axes>"
      ]
     },
     "metadata": {},
     "output_type": "display_data"
    }
   ],
   "source": [
    "train.Property.value_counts().sort_values(ascending=False).plot(kind='bar',color=['green','blue','red'])"
   ]
  },
  {
   "cell_type": "code",
   "execution_count": 89,
   "id": "f1f3e856",
   "metadata": {},
   "outputs": [
    {
     "data": {
      "text/plain": [
       "<AxesSubplot: >"
      ]
     },
     "execution_count": 89,
     "metadata": {},
     "output_type": "execute_result"
    },
    {
     "data": {
      "image/png": "[encoded data removed]",
      "text/plain": [
       "<Figure size 432x288 with 1 Axes>"
      ]
     },
     "metadata": {},
     "output_type": "display_data"
    }
   ],
   "source": [
    "train.Residential.value_counts().sort_values(ascending=False).plot(kind='bar',color=['green','blue','red'])"
   ]
  },
  {
   "cell_type": "code",
   "execution_count": 90,
   "id": "971ad577",
   "metadata": {},
   "outputs": [
    {
     "data": {
      "text/html": [
       "<div>\n",
       "<style scoped>\n",
       "    .dataframe tbody tr th:only-of-type {\n",
       "        vertical-align: middle;\n",
       "    }\n",
       "\n",
       "    .dataframe tbody tr th {\n",
       "        vertical-align: top;\n",
       "    }\n",
       "\n",
       "    .dataframe thead th {\n",
       "        text-align: right;\n",
       "    }\n",
       "</style>\n",
       "<table border=\"1\" class=\"dataframe\">\n",
       "  <thead>\n",
       "    <tr style=\"text-align: right;\">\n",
       "      <th></th>\n",
       "      <th>Year</th>\n",
       "      <th>Date</th>\n",
       "      <th>Locality</th>\n",
       "      <th>Estimated Value</th>\n",
       "      <th>Sale Price</th>\n",
       "      <th>Property</th>\n",
       "      <th>Residential</th>\n",
       "      <th>num_rooms</th>\n",
       "      <th>property_tax_rate</th>\n",
       "    </tr>\n",
       "  </thead>\n",
       "  <tbody>\n",
       "    <tr>\n",
       "      <th>0</th>\n",
       "      <td>2009</td>\n",
       "      <td>2009-01-02</td>\n",
       "      <td>Greenwich</td>\n",
       "      <td>711270.0</td>\n",
       "      <td>975000.0</td>\n",
       "      <td>Condo</td>\n",
       "      <td>Condominium</td>\n",
       "      <td>2</td>\n",
       "      <td>1.025953</td>\n",
       "    </tr>\n",
       "    <tr>\n",
       "      <th>1</th>\n",
       "      <td>2009</td>\n",
       "      <td>2009-01-02</td>\n",
       "      <td>East Hampton</td>\n",
       "      <td>119970.0</td>\n",
       "      <td>189900.0</td>\n",
       "      <td>Single Family</td>\n",
       "      <td>Detached House</td>\n",
       "      <td>3</td>\n",
       "      <td>1.025953</td>\n",
       "    </tr>\n",
       "    <tr>\n",
       "      <th>2</th>\n",
       "      <td>2009</td>\n",
       "      <td>2009-01-02</td>\n",
       "      <td>Ridgefield</td>\n",
       "      <td>494530.0</td>\n",
       "      <td>825000.0</td>\n",
       "      <td>Single Family</td>\n",
       "      <td>Detached House</td>\n",
       "      <td>3</td>\n",
       "      <td>1.025953</td>\n",
       "    </tr>\n",
       "    <tr>\n",
       "      <th>3</th>\n",
       "      <td>2009</td>\n",
       "      <td>2009-01-02</td>\n",
       "      <td>Old Lyme</td>\n",
       "      <td>197600.0</td>\n",
       "      <td>450000.0</td>\n",
       "      <td>Single Family</td>\n",
       "      <td>Detached House</td>\n",
       "      <td>3</td>\n",
       "      <td>1.025953</td>\n",
       "    </tr>\n",
       "    <tr>\n",
       "      <th>4</th>\n",
       "      <td>2009</td>\n",
       "      <td>2009-01-02</td>\n",
       "      <td>Naugatuck</td>\n",
       "      <td>105440.0</td>\n",
       "      <td>200000.0</td>\n",
       "      <td>Single Family</td>\n",
       "      <td>Detached House</td>\n",
       "      <td>3</td>\n",
       "      <td>1.025953</td>\n",
       "    </tr>\n",
       "    <tr>\n",
       "      <th>...</th>\n",
       "      <td>...</td>\n",
       "      <td>...</td>\n",
       "      <td>...</td>\n",
       "      <td>...</td>\n",
       "      <td>...</td>\n",
       "      <td>...</td>\n",
       "      <td>...</td>\n",
       "      <td>...</td>\n",
       "      <td>...</td>\n",
       "    </tr>\n",
       "    <tr>\n",
       "      <th>553929</th>\n",
       "      <td>2022</td>\n",
       "      <td>2022-12-31</td>\n",
       "      <td>Enfield</td>\n",
       "      <td>122420.0</td>\n",
       "      <td>198000.0</td>\n",
       "      <td>Residential</td>\n",
       "      <td>Detached House</td>\n",
       "      <td>3</td>\n",
       "      <td>1.003979</td>\n",
       "    </tr>\n",
       "    <tr>\n",
       "      <th>553930</th>\n",
       "      <td>2022</td>\n",
       "      <td>2022-12-31</td>\n",
       "      <td>Naugatuck</td>\n",
       "      <td>139180.0</td>\n",
       "      <td>319900.0</td>\n",
       "      <td>Residential</td>\n",
       "      <td>Detached House</td>\n",
       "      <td>3</td>\n",
       "      <td>1.003979</td>\n",
       "    </tr>\n",
       "    <tr>\n",
       "      <th>553931</th>\n",
       "      <td>2022</td>\n",
       "      <td>2022-12-31</td>\n",
       "      <td>South Windsor</td>\n",
       "      <td>200000.0</td>\n",
       "      <td>305000.0</td>\n",
       "      <td>Residential</td>\n",
       "      <td>Detached House</td>\n",
       "      <td>3</td>\n",
       "      <td>1.003979</td>\n",
       "    </tr>\n",
       "    <tr>\n",
       "      <th>553932</th>\n",
       "      <td>2022</td>\n",
       "      <td>2022-12-31</td>\n",
       "      <td>Bloomfield</td>\n",
       "      <td>195440.0</td>\n",
       "      <td>271000.0</td>\n",
       "      <td>Residential</td>\n",
       "      <td>Detached House</td>\n",
       "      <td>3</td>\n",
       "      <td>1.003979</td>\n",
       "    </tr>\n",
       "    <tr>\n",
       "      <th>553933</th>\n",
       "      <td>2022</td>\n",
       "      <td>2022-12-31</td>\n",
       "      <td>Stamford</td>\n",
       "      <td>346600.0</td>\n",
       "      <td>500000.0</td>\n",
       "      <td>Residential</td>\n",
       "      <td>Detached House</td>\n",
       "      <td>3</td>\n",
       "      <td>1.003979</td>\n",
       "    </tr>\n",
       "  </tbody>\n",
       "</table>\n",
       "<p>553934 rows × 9 columns</p>\n",
       "</div>"
      ],
      "text/plain": [
       "        Year       Date       Locality  Estimated Value  Sale Price  \\\n",
       "0       2009 2009-01-02      Greenwich         711270.0    975000.0   \n",
       "1       2009 2009-01-02   East Hampton         119970.0    189900.0   \n",
       "2       2009 2009-01-02     Ridgefield         494530.0    825000.0   \n",
       "3       2009 2009-01-02       Old Lyme         197600.0    450000.0   \n",
       "4       2009 2009-01-02      Naugatuck         105440.0    200000.0   \n",
       "...      ...        ...            ...              ...         ...   \n",
       "553929  2022 2022-12-31        Enfield         122420.0    198000.0   \n",
       "553930  2022 2022-12-31      Naugatuck         139180.0    319900.0   \n",
       "553931  2022 2022-12-31  South Windsor         200000.0    305000.0   \n",
       "553932  2022 2022-12-31     Bloomfield         195440.0    271000.0   \n",
       "553933  2022 2022-12-31       Stamford         346600.0    500000.0   \n",
       "\n",
       "             Property     Residential  num_rooms  property_tax_rate  \n",
       "0               Condo     Condominium          2           1.025953  \n",
       "1       Single Family  Detached House          3           1.025953  \n",
       "2       Single Family  Detached House          3           1.025953  \n",
       "3       Single Family  Detached House          3           1.025953  \n",
       "4       Single Family  Detached House          3           1.025953  \n",
       "...               ...             ...        ...                ...  \n",
       "553929    Residential  Detached House          3           1.003979  \n",
       "553930    Residential  Detached House          3           1.003979  \n",
       "553931    Residential  Detached House          3           1.003979  \n",
       "553932    Residential  Detached House          3           1.003979  \n",
       "553933    Residential  Detached House          3           1.003979  \n",
       "\n",
       "[553934 rows x 9 columns]"
      ]
     },
     "execution_count": 90,
     "metadata": {},
     "output_type": "execute_result"
    }
   ],
   "source": [
    "train"
   ]
  },
  {
   "cell_type": "markdown",
   "id": "5abd7064",
   "metadata": {},
   "source": [
    "# categorical feature engineering"
   ]
  },
  {
   "cell_type": "code",
   "execution_count": 91,
   "id": "278e6575",
   "metadata": {},
   "outputs": [],
   "source": [
    "from category_encoders import HashingEncoder"
   ]
  },
  {
   "cell_type": "code",
   "execution_count": 92,
   "id": "1a857d18",
   "metadata": {},
   "outputs": [],
   "source": [
    "he=HashingEncoder(cols=['Locality'])"
   ]
  },
  {
   "cell_type": "code",
   "execution_count": 93,
   "id": "d89468ef",
   "metadata": {},
   "outputs": [
    {
     "data": {
      "text/html": [
       "<style>#sk-container-id-5 {color: black;background-color: white;}#sk-container-id-5 pre{padding: 0;}#sk-container-id-5 div.sk-toggleable {background-color: white;}#sk-container-id-5 label.sk-toggleable__label {cursor: pointer;display: block;width: 100%;margin-bottom: 0;padding: 0.3em;box-sizing: border-box;text-align: center;}#sk-container-id-5 label.sk-toggleable__label-arrow:before {content: \"▸\";float: left;margin-right: 0.25em;color: #696969;}#sk-container-id-5 label.sk-toggleable__label-arrow:hover:before {color: black;}#sk-container-id-5 div.sk-estimator:hover label.sk-toggleable__label-arrow:before {color: black;}#sk-container-id-5 div.sk-toggleable__content {max-height: 0;max-width: 0;overflow: hidden;text-align: left;background-color: #f0f8ff;}#sk-container-id-5 div.sk-toggleable__content pre {margin: 0.2em;color: black;border-radius: 0.25em;background-color: #f0f8ff;}#sk-container-id-5 input.sk-toggleable__control:checked~div.sk-toggleable__content {max-height: 200px;max-width: 100%;overflow: auto;}#sk-container-id-5 input.sk-toggleable__control:checked~label.sk-toggleable__label-arrow:before {content: \"▾\";}#sk-container-id-5 div.sk-estimator input.sk-toggleable__control:checked~label.sk-toggleable__label {background-color: #d4ebff;}#sk-container-id-5 div.sk-label input.sk-toggleable__control:checked~label.sk-toggleable__label {background-color: #d4ebff;}#sk-container-id-5 input.sk-hidden--visually {border: 0;clip: rect(1px 1px 1px 1px);clip: rect(1px, 1px, 1px, 1px);height: 1px;margin: -1px;overflow: hidden;padding: 0;position: absolute;width: 1px;}#sk-container-id-5 div.sk-estimator {font-family: monospace;background-color: #f0f8ff;border: 1px dotted black;border-radius: 0.25em;box-sizing: border-box;margin-bottom: 0.5em;}#sk-container-id-5 div.sk-estimator:hover {background-color: #d4ebff;}#sk-container-id-5 div.sk-parallel-item::after {content: \"\";width: 100%;border-bottom: 1px solid gray;flex-grow: 1;}#sk-container-id-5 div.sk-label:hover label.sk-toggleable__label {background-color: #d4ebff;}#sk-container-id-5 div.sk-serial::before {content: \"\";position: absolute;border-left: 1px solid gray;box-sizing: border-box;top: 0;bottom: 0;left: 50%;z-index: 0;}#sk-container-id-5 div.sk-serial {display: flex;flex-direction: column;align-items: center;background-color: white;padding-right: 0.2em;padding-left: 0.2em;position: relative;}#sk-container-id-5 div.sk-item {position: relative;z-index: 1;}#sk-container-id-5 div.sk-parallel {display: flex;align-items: stretch;justify-content: center;background-color: white;position: relative;}#sk-container-id-5 div.sk-item::before, #sk-container-id-5 div.sk-parallel-item::before {content: \"\";position: absolute;border-left: 1px solid gray;box-sizing: border-box;top: 0;bottom: 0;left: 50%;z-index: -1;}#sk-container-id-5 div.sk-parallel-item {display: flex;flex-direction: column;z-index: 1;position: relative;background-color: white;}#sk-container-id-5 div.sk-parallel-item:first-child::after {align-self: flex-end;width: 50%;}#sk-container-id-5 div.sk-parallel-item:last-child::after {align-self: flex-start;width: 50%;}#sk-container-id-5 div.sk-parallel-item:only-child::after {width: 0;}#sk-container-id-5 div.sk-dashed-wrapped {border: 1px dashed gray;margin: 0 0.4em 0.5em 0.4em;box-sizing: border-box;padding-bottom: 0.4em;background-color: white;}#sk-container-id-5 div.sk-label label {font-family: monospace;font-weight: bold;display: inline-block;line-height: 1.2em;}#sk-container-id-5 div.sk-label-container {text-align: center;}#sk-container-id-5 div.sk-container {/* jupyter's `normalize.less` sets `[hidden] { display: none; }` but bootstrap.min.css set `[hidden] { display: none !important; }` so we also need the `!important` here to be able to override the default hidden behavior on the sphinx rendered scikit-learn.org. See: https://github.com/scikit-learn/scikit-learn/issues/21755 */display: inline-block !important;position: relative;}#sk-container-id-5 div.sk-text-repr-fallback {display: none;}</style><div id=\"sk-container-id-5\" class=\"sk-top-container\"><div class=\"sk-text-repr-fallback\"><pre>HashingEncoder(cols=[&#x27;Locality&#x27;], max_process=4, max_sample=138483)</pre><b>In a Jupyter environment, please rerun this cell to show the HTML representation or trust the notebook. <br />On GitHub, the HTML representation is unable to render, please try loading this page with nbviewer.org.</b></div><div class=\"sk-container\" hidden><div class=\"sk-item\"><div class=\"sk-estimator sk-toggleable\"><input class=\"sk-toggleable__control sk-hidden--visually\" id=\"sk-estimator-id-5\" type=\"checkbox\" checked><label for=\"sk-estimator-id-5\" class=\"sk-toggleable__label sk-toggleable__label-arrow\">HashingEncoder</label><div class=\"sk-toggleable__content\"><pre>HashingEncoder(cols=[&#x27;Locality&#x27;], max_process=4, max_sample=138483)</pre></div></div></div></div></div>"
      ],
      "text/plain": [
       "HashingEncoder(cols=['Locality'], max_process=4, max_sample=138483)"
      ]
     },
     "execution_count": 93,
     "metadata": {},
     "output_type": "execute_result"
    }
   ],
   "source": [
    "he.fit(train)"
   ]
  },
  {
   "cell_type": "code",
   "execution_count": 94,
   "id": "b6643608",
   "metadata": {},
   "outputs": [],
   "source": [
    "train=he.transform(train)"
   ]
  },
  {
   "cell_type": "code",
   "execution_count": 95,
   "id": "dd1bda7e",
   "metadata": {},
   "outputs": [],
   "source": [
    "from category_encoders import OneHotEncoder"
   ]
  },
  {
   "cell_type": "code",
   "execution_count": 96,
   "id": "c7f176a7",
   "metadata": {},
   "outputs": [],
   "source": [
    "ohe=OneHotEncoder(cols=['Property','Residential'],use_cat_names=True)"
   ]
  },
  {
   "cell_type": "code",
   "execution_count": 97,
   "id": "8243db69",
   "metadata": {},
   "outputs": [
    {
     "data": {
      "text/html": [
       "<style>#sk-container-id-6 {color: black;background-color: white;}#sk-container-id-6 pre{padding: 0;}#sk-container-id-6 div.sk-toggleable {background-color: white;}#sk-container-id-6 label.sk-toggleable__label {cursor: pointer;display: block;width: 100%;margin-bottom: 0;padding: 0.3em;box-sizing: border-box;text-align: center;}#sk-container-id-6 label.sk-toggleable__label-arrow:before {content: \"▸\";float: left;margin-right: 0.25em;color: #696969;}#sk-container-id-6 label.sk-toggleable__label-arrow:hover:before {color: black;}#sk-container-id-6 div.sk-estimator:hover label.sk-toggleable__label-arrow:before {color: black;}#sk-container-id-6 div.sk-toggleable__content {max-height: 0;max-width: 0;overflow: hidden;text-align: left;background-color: #f0f8ff;}#sk-container-id-6 div.sk-toggleable__content pre {margin: 0.2em;color: black;border-radius: 0.25em;background-color: #f0f8ff;}#sk-container-id-6 input.sk-toggleable__control:checked~div.sk-toggleable__content {max-height: 200px;max-width: 100%;overflow: auto;}#sk-container-id-6 input.sk-toggleable__control:checked~label.sk-toggleable__label-arrow:before {content: \"▾\";}#sk-container-id-6 div.sk-estimator input.sk-toggleable__control:checked~label.sk-toggleable__label {background-color: #d4ebff;}#sk-container-id-6 div.sk-label input.sk-toggleable__control:checked~label.sk-toggleable__label {background-color: #d4ebff;}#sk-container-id-6 input.sk-hidden--visually {border: 0;clip: rect(1px 1px 1px 1px);clip: rect(1px, 1px, 1px, 1px);height: 1px;margin: -1px;overflow: hidden;padding: 0;position: absolute;width: 1px;}#sk-container-id-6 div.sk-estimator {font-family: monospace;background-color: #f0f8ff;border: 1px dotted black;border-radius: 0.25em;box-sizing: border-box;margin-bottom: 0.5em;}#sk-container-id-6 div.sk-estimator:hover {background-color: #d4ebff;}#sk-container-id-6 div.sk-parallel-item::after {content: \"\";width: 100%;border-bottom: 1px solid gray;flex-grow: 1;}#sk-container-id-6 div.sk-label:hover label.sk-toggleable__label {background-color: #d4ebff;}#sk-container-id-6 div.sk-serial::before {content: \"\";position: absolute;border-left: 1px solid gray;box-sizing: border-box;top: 0;bottom: 0;left: 50%;z-index: 0;}#sk-container-id-6 div.sk-serial {display: flex;flex-direction: column;align-items: center;background-color: white;padding-right: 0.2em;padding-left: 0.2em;position: relative;}#sk-container-id-6 div.sk-item {position: relative;z-index: 1;}#sk-container-id-6 div.sk-parallel {display: flex;align-items: stretch;justify-content: center;background-color: white;position: relative;}#sk-container-id-6 div.sk-item::before, #sk-container-id-6 div.sk-parallel-item::before {content: \"\";position: absolute;border-left: 1px solid gray;box-sizing: border-box;top: 0;bottom: 0;left: 50%;z-index: -1;}#sk-container-id-6 div.sk-parallel-item {display: flex;flex-direction: column;z-index: 1;position: relative;background-color: white;}#sk-container-id-6 div.sk-parallel-item:first-child::after {align-self: flex-end;width: 50%;}#sk-container-id-6 div.sk-parallel-item:last-child::after {align-self: flex-start;width: 50%;}#sk-container-id-6 div.sk-parallel-item:only-child::after {width: 0;}#sk-container-id-6 div.sk-dashed-wrapped {border: 1px dashed gray;margin: 0 0.4em 0.5em 0.4em;box-sizing: border-box;padding-bottom: 0.4em;background-color: white;}#sk-container-id-6 div.sk-label label {font-family: monospace;font-weight: bold;display: inline-block;line-height: 1.2em;}#sk-container-id-6 div.sk-label-container {text-align: center;}#sk-container-id-6 div.sk-container {/* jupyter's `normalize.less` sets `[hidden] { display: none; }` but bootstrap.min.css set `[hidden] { display: none !important; }` so we also need the `!important` here to be able to override the default hidden behavior on the sphinx rendered scikit-learn.org. See: https://github.com/scikit-learn/scikit-learn/issues/21755 */display: inline-block !important;position: relative;}#sk-container-id-6 div.sk-text-repr-fallback {display: none;}</style><div id=\"sk-container-id-6\" class=\"sk-top-container\"><div class=\"sk-text-repr-fallback\"><pre>OneHotEncoder(cols=[&#x27;Property&#x27;, &#x27;Residential&#x27;], use_cat_names=True)</pre><b>In a Jupyter environment, please rerun this cell to show the HTML representation or trust the notebook. <br />On GitHub, the HTML representation is unable to render, please try loading this page with nbviewer.org.</b></div><div class=\"sk-container\" hidden><div class=\"sk-item\"><div class=\"sk-estimator sk-toggleable\"><input class=\"sk-toggleable__control sk-hidden--visually\" id=\"sk-estimator-id-6\" type=\"checkbox\" checked><label for=\"sk-estimator-id-6\" class=\"sk-toggleable__label sk-toggleable__label-arrow\">OneHotEncoder</label><div class=\"sk-toggleable__content\"><pre>OneHotEncoder(cols=[&#x27;Property&#x27;, &#x27;Residential&#x27;], use_cat_names=True)</pre></div></div></div></div></div>"
      ],
      "text/plain": [
       "OneHotEncoder(cols=['Property', 'Residential'], use_cat_names=True)"
      ]
     },
     "execution_count": 97,
     "metadata": {},
     "output_type": "execute_result"
    }
   ],
   "source": [
    "ohe.fit(train)"
   ]
  },
  {
   "cell_type": "code",
   "execution_count": 98,
   "id": "6037de78",
   "metadata": {},
   "outputs": [],
   "source": [
    "train=ohe.transform(train)"
   ]
  },
  {
   "cell_type": "code",
   "execution_count": 99,
   "id": "e53af809",
   "metadata": {},
   "outputs": [
    {
     "data": {
      "text/plain": [
       "Index(['col_0', 'col_1', 'col_2', 'col_3', 'col_4', 'col_5', 'col_6', 'col_7',\n",
       "       'Year', 'Date', 'Estimated Value', 'Sale Price', 'Property_Condo',\n",
       "       'Property_Single Family', 'Property_Three Family',\n",
       "       'Property_Two Family', 'Property_Four Family', 'Property_Residential',\n",
       "       'Residential_Condominium', 'Residential_Detached House',\n",
       "       'Residential_Triplex', 'Residential_Duplex', 'Residential_Fourplex',\n",
       "       'num_rooms', 'property_tax_rate'],\n",
       "      dtype='object')"
      ]
     },
     "execution_count": 99,
     "metadata": {},
     "output_type": "execute_result"
    }
   ],
   "source": [
    "train.columns"
   ]
  },
  {
   "cell_type": "code",
   "execution_count": 100,
   "id": "370ca509",
   "metadata": {},
   "outputs": [],
   "source": [
    "train.drop(\"Date\",axis=1,inplace=True)"
   ]
  },
  {
   "cell_type": "code",
   "execution_count": 101,
   "id": "7a355707",
   "metadata": {},
   "outputs": [],
   "source": [
    "from sklearn.preprocessing import StandardScaler"
   ]
  },
  {
   "cell_type": "code",
   "execution_count": 102,
   "id": "b53bdaac",
   "metadata": {},
   "outputs": [],
   "source": [
    "X=train.drop(\"Sale Price\",axis=1)\n",
    "y=train['Sale Price']"
   ]
  },
  {
   "cell_type": "code",
   "execution_count": null,
   "id": "f5ab6c17",
   "metadata": {},
   "outputs": [],
   "source": []
  },
  {
   "cell_type": "code",
   "execution_count": 103,
   "id": "258fcd2e",
   "metadata": {},
   "outputs": [],
   "source": [
    "sc=StandardScaler()"
   ]
  },
  {
   "cell_type": "code",
   "execution_count": 104,
   "id": "c9773a59",
   "metadata": {},
   "outputs": [
    {
     "data": {
      "text/html": [
       "<style>#sk-container-id-7 {color: black;background-color: white;}#sk-container-id-7 pre{padding: 0;}#sk-container-id-7 div.sk-toggleable {background-color: white;}#sk-container-id-7 label.sk-toggleable__label {cursor: pointer;display: block;width: 100%;margin-bottom: 0;padding: 0.3em;box-sizing: border-box;text-align: center;}#sk-container-id-7 label.sk-toggleable__label-arrow:before {content: \"▸\";float: left;margin-right: 0.25em;color: #696969;}#sk-container-id-7 label.sk-toggleable__label-arrow:hover:before {color: black;}#sk-container-id-7 div.sk-estimator:hover label.sk-toggleable__label-arrow:before {color: black;}#sk-container-id-7 div.sk-toggleable__content {max-height: 0;max-width: 0;overflow: hidden;text-align: left;background-color: #f0f8ff;}#sk-container-id-7 div.sk-toggleable__content pre {margin: 0.2em;color: black;border-radius: 0.25em;background-color: #f0f8ff;}#sk-container-id-7 input.sk-toggleable__control:checked~div.sk-toggleable__content {max-height: 200px;max-width: 100%;overflow: auto;}#sk-container-id-7 input.sk-toggleable__control:checked~label.sk-toggleable__label-arrow:before {content: \"▾\";}#sk-container-id-7 div.sk-estimator input.sk-toggleable__control:checked~label.sk-toggleable__label {background-color: #d4ebff;}#sk-container-id-7 div.sk-label input.sk-toggleable__control:checked~label.sk-toggleable__label {background-color: #d4ebff;}#sk-container-id-7 input.sk-hidden--visually {border: 0;clip: rect(1px 1px 1px 1px);clip: rect(1px, 1px, 1px, 1px);height: 1px;margin: -1px;overflow: hidden;padding: 0;position: absolute;width: 1px;}#sk-container-id-7 div.sk-estimator {font-family: monospace;background-color: #f0f8ff;border: 1px dotted black;border-radius: 0.25em;box-sizing: border-box;margin-bottom: 0.5em;}#sk-container-id-7 div.sk-estimator:hover {background-color: #d4ebff;}#sk-container-id-7 div.sk-parallel-item::after {content: \"\";width: 100%;border-bottom: 1px solid gray;flex-grow: 1;}#sk-container-id-7 div.sk-label:hover label.sk-toggleable__label {background-color: #d4ebff;}#sk-container-id-7 div.sk-serial::before {content: \"\";position: absolute;border-left: 1px solid gray;box-sizing: border-box;top: 0;bottom: 0;left: 50%;z-index: 0;}#sk-container-id-7 div.sk-serial {display: flex;flex-direction: column;align-items: center;background-color: white;padding-right: 0.2em;padding-left: 0.2em;position: relative;}#sk-container-id-7 div.sk-item {position: relative;z-index: 1;}#sk-container-id-7 div.sk-parallel {display: flex;align-items: stretch;justify-content: center;background-color: white;position: relative;}#sk-container-id-7 div.sk-item::before, #sk-container-id-7 div.sk-parallel-item::before {content: \"\";position: absolute;border-left: 1px solid gray;box-sizing: border-box;top: 0;bottom: 0;left: 50%;z-index: -1;}#sk-container-id-7 div.sk-parallel-item {display: flex;flex-direction: column;z-index: 1;position: relative;background-color: white;}#sk-container-id-7 div.sk-parallel-item:first-child::after {align-self: flex-end;width: 50%;}#sk-container-id-7 div.sk-parallel-item:last-child::after {align-self: flex-start;width: 50%;}#sk-container-id-7 div.sk-parallel-item:only-child::after {width: 0;}#sk-container-id-7 div.sk-dashed-wrapped {border: 1px dashed gray;margin: 0 0.4em 0.5em 0.4em;box-sizing: border-box;padding-bottom: 0.4em;background-color: white;}#sk-container-id-7 div.sk-label label {font-family: monospace;font-weight: bold;display: inline-block;line-height: 1.2em;}#sk-container-id-7 div.sk-label-container {text-align: center;}#sk-container-id-7 div.sk-container {/* jupyter's `normalize.less` sets `[hidden] { display: none; }` but bootstrap.min.css set `[hidden] { display: none !important; }` so we also need the `!important` here to be able to override the default hidden behavior on the sphinx rendered scikit-learn.org. See: https://github.com/scikit-learn/scikit-learn/issues/21755 */display: inline-block !important;position: relative;}#sk-container-id-7 div.sk-text-repr-fallback {display: none;}</style><div id=\"sk-container-id-7\" class=\"sk-top-container\"><div class=\"sk-text-repr-fallback\"><pre>StandardScaler()</pre><b>In a Jupyter environment, please rerun this cell to show the HTML representation or trust the notebook. <br />On GitHub, the HTML representation is unable to render, please try loading this page with nbviewer.org.</b></div><div class=\"sk-container\" hidden><div class=\"sk-item\"><div class=\"sk-estimator sk-toggleable\"><input class=\"sk-toggleable__control sk-hidden--visually\" id=\"sk-estimator-id-7\" type=\"checkbox\" checked><label for=\"sk-estimator-id-7\" class=\"sk-toggleable__label sk-toggleable__label-arrow\">StandardScaler</label><div class=\"sk-toggleable__content\"><pre>StandardScaler()</pre></div></div></div></div></div>"
      ],
      "text/plain": [
       "StandardScaler()"
      ]
     },
     "execution_count": 104,
     "metadata": {},
     "output_type": "execute_result"
    }
   ],
   "source": [
    "sc.fit(X)"
   ]
  },
  {
   "cell_type": "code",
   "execution_count": 105,
   "id": "1cd4fda7",
   "metadata": {},
   "outputs": [],
   "source": [
    "X=pd.DataFrame(sc.transform(X),columns=X.columns)"
   ]
  },
  {
   "cell_type": "code",
   "execution_count": 107,
   "id": "c97ad056",
   "metadata": {},
   "outputs": [],
   "source": [
    "from sklearn.model_selection import train_test_split"
   ]
  },
  {
   "cell_type": "code",
   "execution_count": 108,
   "id": "8d973fbc",
   "metadata": {},
   "outputs": [],
   "source": [
    "X_train,X_test,y_train,y_test=train_test_split(X,y,test_size=0.3,random_state=45)"
   ]
  },
  {
   "cell_type": "markdown",
   "id": "8cf2eedb",
   "metadata": {},
   "source": [
    "# Model building"
   ]
  },
  {
   "cell_type": "code",
   "execution_count": 117,
   "id": "9f74208c",
   "metadata": {},
   "outputs": [],
   "source": [
    "from sklearn.ensemble import RandomForestRegressor,AdaBoostRegressor\n",
    "from sklearn.metrics import r2_score,mean_squared_error"
   ]
  },
  {
   "cell_type": "code",
   "execution_count": 112,
   "id": "cfcaf81a",
   "metadata": {},
   "outputs": [],
   "source": [
    "model=RandomForestRegressor()"
   ]
  },
  {
   "cell_type": "code",
   "execution_count": 113,
   "id": "13afdc1e",
   "metadata": {},
   "outputs": [
    {
     "data": {
      "text/html": [
       "<style>#sk-container-id-8 {color: black;background-color: white;}#sk-container-id-8 pre{padding: 0;}#sk-container-id-8 div.sk-toggleable {background-color: white;}#sk-container-id-8 label.sk-toggleable__label {cursor: pointer;display: block;width: 100%;margin-bottom: 0;padding: 0.3em;box-sizing: border-box;text-align: center;}#sk-container-id-8 label.sk-toggleable__label-arrow:before {content: \"▸\";float: left;margin-right: 0.25em;color: #696969;}#sk-container-id-8 label.sk-toggleable__label-arrow:hover:before {color: black;}#sk-container-id-8 div.sk-estimator:hover label.sk-toggleable__label-arrow:before {color: black;}#sk-container-id-8 div.sk-toggleable__content {max-height: 0;max-width: 0;overflow: hidden;text-align: left;background-color: #f0f8ff;}#sk-container-id-8 div.sk-toggleable__content pre {margin: 0.2em;color: black;border-radius: 0.25em;background-color: #f0f8ff;}#sk-container-id-8 input.sk-toggleable__control:checked~div.sk-toggleable__content {max-height: 200px;max-width: 100%;overflow: auto;}#sk-container-id-8 input.sk-toggleable__control:checked~label.sk-toggleable__label-arrow:before {content: \"▾\";}#sk-container-id-8 div.sk-estimator input.sk-toggleable__control:checked~label.sk-toggleable__label {background-color: #d4ebff;}#sk-container-id-8 div.sk-label input.sk-toggleable__control:checked~label.sk-toggleable__label {background-color: #d4ebff;}#sk-container-id-8 input.sk-hidden--visually {border: 0;clip: rect(1px 1px 1px 1px);clip: rect(1px, 1px, 1px, 1px);height: 1px;margin: -1px;overflow: hidden;padding: 0;position: absolute;width: 1px;}#sk-container-id-8 div.sk-estimator {font-family: monospace;background-color: #f0f8ff;border: 1px dotted black;border-radius: 0.25em;box-sizing: border-box;margin-bottom: 0.5em;}#sk-container-id-8 div.sk-estimator:hover {background-color: #d4ebff;}#sk-container-id-8 div.sk-parallel-item::after {content: \"\";width: 100%;border-bottom: 1px solid gray;flex-grow: 1;}#sk-container-id-8 div.sk-label:hover label.sk-toggleable__label {background-color: #d4ebff;}#sk-container-id-8 div.sk-serial::before {content: \"\";position: absolute;border-left: 1px solid gray;box-sizing: border-box;top: 0;bottom: 0;left: 50%;z-index: 0;}#sk-container-id-8 div.sk-serial {display: flex;flex-direction: column;align-items: center;background-color: white;padding-right: 0.2em;padding-left: 0.2em;position: relative;}#sk-container-id-8 div.sk-item {position: relative;z-index: 1;}#sk-container-id-8 div.sk-parallel {display: flex;align-items: stretch;justify-content: center;background-color: white;position: relative;}#sk-container-id-8 div.sk-item::before, #sk-container-id-8 div.sk-parallel-item::before {content: \"\";position: absolute;border-left: 1px solid gray;box-sizing: border-box;top: 0;bottom: 0;left: 50%;z-index: -1;}#sk-container-id-8 div.sk-parallel-item {display: flex;flex-direction: column;z-index: 1;position: relative;background-color: white;}#sk-container-id-8 div.sk-parallel-item:first-child::after {align-self: flex-end;width: 50%;}#sk-container-id-8 div.sk-parallel-item:last-child::after {align-self: flex-start;width: 50%;}#sk-container-id-8 div.sk-parallel-item:only-child::after {width: 0;}#sk-container-id-8 div.sk-dashed-wrapped {border: 1px dashed gray;margin: 0 0.4em 0.5em 0.4em;box-sizing: border-box;padding-bottom: 0.4em;background-color: white;}#sk-container-id-8 div.sk-label label {font-family: monospace;font-weight: bold;display: inline-block;line-height: 1.2em;}#sk-container-id-8 div.sk-label-container {text-align: center;}#sk-container-id-8 div.sk-container {/* jupyter's `normalize.less` sets `[hidden] { display: none; }` but bootstrap.min.css set `[hidden] { display: none !important; }` so we also need the `!important` here to be able to override the default hidden behavior on the sphinx rendered scikit-learn.org. See: https://github.com/scikit-learn/scikit-learn/issues/21755 */display: inline-block !important;position: relative;}#sk-container-id-8 div.sk-text-repr-fallback {display: none;}</style><div id=\"sk-container-id-8\" class=\"sk-top-container\"><div class=\"sk-text-repr-fallback\"><pre>RandomForestRegressor()</pre><b>In a Jupyter environment, please rerun this cell to show the HTML representation or trust the notebook. <br />On GitHub, the HTML representation is unable to render, please try loading this page with nbviewer.org.</b></div><div class=\"sk-container\" hidden><div class=\"sk-item\"><div class=\"sk-estimator sk-toggleable\"><input class=\"sk-toggleable__control sk-hidden--visually\" id=\"sk-estimator-id-8\" type=\"checkbox\" checked><label for=\"sk-estimator-id-8\" class=\"sk-toggleable__label sk-toggleable__label-arrow\">RandomForestRegressor</label><div class=\"sk-toggleable__content\"><pre>RandomForestRegressor()</pre></div></div></div></div></div>"
      ],
      "text/plain": [
       "RandomForestRegressor()"
      ]
     },
     "execution_count": 113,
     "metadata": {},
     "output_type": "execute_result"
    }
   ],
   "source": [
    "model.fit(X_train,y_train)"
   ]
  },
  {
   "cell_type": "code",
   "execution_count": 114,
   "id": "c28564a1",
   "metadata": {},
   "outputs": [],
   "source": [
    "y_pred=model.predict(X_test)"
   ]
  },
  {
   "cell_type": "code",
   "execution_count": 116,
   "id": "e63326c4",
   "metadata": {},
   "outputs": [
    {
     "data": {
      "text/plain": [
       "<AxesSubplot: xlabel='Sale Price', ylabel='Density'>"
      ]
     },
     "execution_count": 116,
     "metadata": {},
     "output_type": "execute_result"
    },
    {
     "data": {
      "image/png": "[encoded data removed]",
      "text/plain": [
       "<Figure size 432x288 with 1 Axes>"
      ]
     },
     "metadata": {},
     "output_type": "display_data"
    }
   ],
   "source": [
    "sns.distplot(y_test-y_pred)"
   ]
  },
  {
   "cell_type": "code",
   "execution_count": 118,
   "id": "b3d62c45",
   "metadata": {},
   "outputs": [
    {
     "data": {
      "text/plain": [
       "0.7229839628481425"
      ]
     },
     "execution_count": 118,
     "metadata": {},
     "output_type": "execute_result"
    }
   ],
   "source": [
    "r2_score(y_test,y_pred)"
   ]
  },
  {
   "cell_type": "markdown",
   "id": "5ee1d213",
   "metadata": {},
   "source": [
    "# prediction on test data"
   ]
  },
  {
   "cell_type": "code",
   "execution_count": 140,
   "id": "46a31880",
   "metadata": {},
   "outputs": [
    {
     "data": {
      "text/html": [
       "<div>\n",
       "<style scoped>\n",
       "    .dataframe tbody tr th:only-of-type {\n",
       "        vertical-align: middle;\n",
       "    }\n",
       "\n",
       "    .dataframe tbody tr th {\n",
       "        vertical-align: top;\n",
       "    }\n",
       "\n",
       "    .dataframe thead th {\n",
       "        text-align: right;\n",
       "    }\n",
       "</style>\n",
       "<table border=\"1\" class=\"dataframe\">\n",
       "  <thead>\n",
       "    <tr style=\"text-align: right;\">\n",
       "      <th></th>\n",
       "      <th>Year</th>\n",
       "      <th>Date</th>\n",
       "      <th>Locality</th>\n",
       "      <th>Address</th>\n",
       "      <th>Estimated Value</th>\n",
       "      <th>Sale Price</th>\n",
       "      <th>Property</th>\n",
       "      <th>Residential</th>\n",
       "      <th>num_rooms</th>\n",
       "      <th>carpet_area</th>\n",
       "      <th>property_tax_rate</th>\n",
       "      <th>Segment</th>\n",
       "    </tr>\n",
       "  </thead>\n",
       "  <tbody>\n",
       "    <tr>\n",
       "      <th>0</th>\n",
       "      <td>2023</td>\n",
       "      <td>2023-01-01</td>\n",
       "      <td>Old Lyme</td>\n",
       "      <td>12 SWAN AVE</td>\n",
       "      <td>151400.0</td>\n",
       "      <td>0</td>\n",
       "      <td>Residential</td>\n",
       "      <td>Detached House</td>\n",
       "      <td>3</td>\n",
       "      <td>947.0</td>\n",
       "      <td>1.46</td>\n",
       "      <td>0</td>\n",
       "    </tr>\n",
       "    <tr>\n",
       "      <th>1</th>\n",
       "      <td>2023</td>\n",
       "      <td>2023-01-01</td>\n",
       "      <td>Ridgefield</td>\n",
       "      <td>59 LINCOLN LANE</td>\n",
       "      <td>686900.0</td>\n",
       "      <td>0</td>\n",
       "      <td>Residential</td>\n",
       "      <td>Detached House</td>\n",
       "      <td>3</td>\n",
       "      <td>1051.0</td>\n",
       "      <td>1.46</td>\n",
       "      <td>0</td>\n",
       "    </tr>\n",
       "    <tr>\n",
       "      <th>2</th>\n",
       "      <td>2023</td>\n",
       "      <td>2023-01-04</td>\n",
       "      <td>Cromwell</td>\n",
       "      <td>6 GROVE RD</td>\n",
       "      <td>152030.0</td>\n",
       "      <td>0</td>\n",
       "      <td>Residential</td>\n",
       "      <td>Detached House</td>\n",
       "      <td>3</td>\n",
       "      <td>925.0</td>\n",
       "      <td>1.46</td>\n",
       "      <td>0</td>\n",
       "    </tr>\n",
       "    <tr>\n",
       "      <th>3</th>\n",
       "      <td>2023</td>\n",
       "      <td>2023-01-04</td>\n",
       "      <td>New Haven</td>\n",
       "      <td>346 CONCORD ST</td>\n",
       "      <td>156130.0</td>\n",
       "      <td>0</td>\n",
       "      <td>Residential</td>\n",
       "      <td>Duplex</td>\n",
       "      <td>4</td>\n",
       "      <td>1210.0</td>\n",
       "      <td>1.46</td>\n",
       "      <td>0</td>\n",
       "    </tr>\n",
       "    <tr>\n",
       "      <th>4</th>\n",
       "      <td>2023</td>\n",
       "      <td>2023-01-04</td>\n",
       "      <td>Beacon Falls</td>\n",
       "      <td>14 LASKY ROAD</td>\n",
       "      <td>108970.0</td>\n",
       "      <td>0</td>\n",
       "      <td>Residential</td>\n",
       "      <td>Detached House</td>\n",
       "      <td>3</td>\n",
       "      <td>1089.0</td>\n",
       "      <td>1.46</td>\n",
       "      <td>0</td>\n",
       "    </tr>\n",
       "    <tr>\n",
       "      <th>...</th>\n",
       "      <td>...</td>\n",
       "      <td>...</td>\n",
       "      <td>...</td>\n",
       "      <td>...</td>\n",
       "      <td>...</td>\n",
       "      <td>...</td>\n",
       "      <td>...</td>\n",
       "      <td>...</td>\n",
       "      <td>...</td>\n",
       "      <td>...</td>\n",
       "      <td>...</td>\n",
       "      <td>...</td>\n",
       "    </tr>\n",
       "    <tr>\n",
       "      <th>43949</th>\n",
       "      <td>2023</td>\n",
       "      <td>2023-09-30</td>\n",
       "      <td>Ansonia</td>\n",
       "      <td>22 FINNEY ST EXT</td>\n",
       "      <td>137600.0</td>\n",
       "      <td>0</td>\n",
       "      <td>Residential</td>\n",
       "      <td>Detached House</td>\n",
       "      <td>3</td>\n",
       "      <td>1047.0</td>\n",
       "      <td>1.46</td>\n",
       "      <td>0</td>\n",
       "    </tr>\n",
       "    <tr>\n",
       "      <th>43950</th>\n",
       "      <td>2023</td>\n",
       "      <td>2023-09-30</td>\n",
       "      <td>Enfield</td>\n",
       "      <td>26 GARY DR</td>\n",
       "      <td>114650.0</td>\n",
       "      <td>0</td>\n",
       "      <td>Residential</td>\n",
       "      <td>Detached House</td>\n",
       "      <td>3</td>\n",
       "      <td>921.0</td>\n",
       "      <td>1.46</td>\n",
       "      <td>0</td>\n",
       "    </tr>\n",
       "    <tr>\n",
       "      <th>43951</th>\n",
       "      <td>2023</td>\n",
       "      <td>2023-09-30</td>\n",
       "      <td>Simsbury</td>\n",
       "      <td>72 PLANK HILL ROAD</td>\n",
       "      <td>163400.0</td>\n",
       "      <td>0</td>\n",
       "      <td>Residential</td>\n",
       "      <td>Detached House</td>\n",
       "      <td>3</td>\n",
       "      <td>957.0</td>\n",
       "      <td>1.46</td>\n",
       "      <td>0</td>\n",
       "    </tr>\n",
       "    <tr>\n",
       "      <th>43952</th>\n",
       "      <td>2023</td>\n",
       "      <td>2023-09-30</td>\n",
       "      <td>Essex</td>\n",
       "      <td>12 BITTERSWEET LA</td>\n",
       "      <td>282300.0</td>\n",
       "      <td>0</td>\n",
       "      <td>Residential</td>\n",
       "      <td>Detached House</td>\n",
       "      <td>3</td>\n",
       "      <td>1081.0</td>\n",
       "      <td>1.46</td>\n",
       "      <td>0</td>\n",
       "    </tr>\n",
       "    <tr>\n",
       "      <th>43953</th>\n",
       "      <td>2023</td>\n",
       "      <td>2023-09-30</td>\n",
       "      <td>Milford</td>\n",
       "      <td>28 WEST AVE</td>\n",
       "      <td>128930.0</td>\n",
       "      <td>0</td>\n",
       "      <td>Residential</td>\n",
       "      <td>Detached House</td>\n",
       "      <td>3</td>\n",
       "      <td>962.0</td>\n",
       "      <td>1.46</td>\n",
       "      <td>0</td>\n",
       "    </tr>\n",
       "  </tbody>\n",
       "</table>\n",
       "<p>43954 rows × 12 columns</p>\n",
       "</div>"
      ],
      "text/plain": [
       "       Year        Date      Locality             Address  Estimated Value  \\\n",
       "0      2023  2023-01-01      Old Lyme         12 SWAN AVE         151400.0   \n",
       "1      2023  2023-01-01    Ridgefield     59 LINCOLN LANE         686900.0   \n",
       "2      2023  2023-01-04      Cromwell          6 GROVE RD         152030.0   \n",
       "3      2023  2023-01-04     New Haven      346 CONCORD ST         156130.0   \n",
       "4      2023  2023-01-04  Beacon Falls       14 LASKY ROAD         108970.0   \n",
       "...     ...         ...           ...                 ...              ...   \n",
       "43949  2023  2023-09-30       Ansonia    22 FINNEY ST EXT         137600.0   \n",
       "43950  2023  2023-09-30       Enfield          26 GARY DR         114650.0   \n",
       "43951  2023  2023-09-30      Simsbury  72 PLANK HILL ROAD         163400.0   \n",
       "43952  2023  2023-09-30         Essex   12 BITTERSWEET LA         282300.0   \n",
       "43953  2023  2023-09-30       Milford         28 WEST AVE         128930.0   \n",
       "\n",
       "       Sale Price     Property     Residential  num_rooms  carpet_area  \\\n",
       "0               0  Residential  Detached House          3        947.0   \n",
       "1               0  Residential  Detached House          3       1051.0   \n",
       "2               0  Residential  Detached House          3        925.0   \n",
       "3               0  Residential          Duplex          4       1210.0   \n",
       "4               0  Residential  Detached House          3       1089.0   \n",
       "...           ...          ...             ...        ...          ...   \n",
       "43949           0  Residential  Detached House          3       1047.0   \n",
       "43950           0  Residential  Detached House          3        921.0   \n",
       "43951           0  Residential  Detached House          3        957.0   \n",
       "43952           0  Residential  Detached House          3       1081.0   \n",
       "43953           0  Residential  Detached House          3        962.0   \n",
       "\n",
       "       property_tax_rate  Segment  \n",
       "0                   1.46        0  \n",
       "1                   1.46        0  \n",
       "2                   1.46        0  \n",
       "3                   1.46        0  \n",
       "4                   1.46        0  \n",
       "...                  ...      ...  \n",
       "43949               1.46        0  \n",
       "43950               1.46        0  \n",
       "43951               1.46        0  \n",
       "43952               1.46        0  \n",
       "43953               1.46        0  \n",
       "\n",
       "[43954 rows x 12 columns]"
      ]
     },
     "execution_count": 140,
     "metadata": {},
     "output_type": "execute_result"
    }
   ],
   "source": [
    "test"
   ]
  },
  {
   "cell_type": "code",
   "execution_count": 141,
   "id": "cc9420a3",
   "metadata": {},
   "outputs": [
    {
     "data": {
      "text/plain": [
       "Year                 0\n",
       "Date                 0\n",
       "Locality             0\n",
       "Address              0\n",
       "Estimated Value      0\n",
       "Sale Price           0\n",
       "Property             0\n",
       "Residential          0\n",
       "num_rooms            0\n",
       "carpet_area          0\n",
       "property_tax_rate    0\n",
       "Segment              0\n",
       "dtype: int64"
      ]
     },
     "execution_count": 141,
     "metadata": {},
     "output_type": "execute_result"
    }
   ],
   "source": [
    "test.isna().sum()"
   ]
  },
  {
   "cell_type": "code",
   "execution_count": 142,
   "id": "681bbd7f",
   "metadata": {},
   "outputs": [
    {
     "data": {
      "text/plain": [
       "1"
      ]
     },
     "execution_count": 142,
     "metadata": {},
     "output_type": "execute_result"
    }
   ],
   "source": [
    "test.duplicated().sum()"
   ]
  },
  {
   "cell_type": "code",
   "execution_count": 143,
   "id": "08bf9897",
   "metadata": {},
   "outputs": [],
   "source": [
    "test.drop_duplicates(keep='first',inplace=True)"
   ]
  },
  {
   "cell_type": "code",
   "execution_count": 144,
   "id": "6b93397f",
   "metadata": {},
   "outputs": [],
   "source": [
    "test['Date']=pd.to_datetime(test['Date'],format=\"%Y-%m-%d\")\n",
    "test.drop(['carpet_area','Address','Date'],axis=1,inplace=True)\n",
    "test=he.transform(test)\n",
    "test=ohe.transform(test)\n",
    "test.drop(['Sale Price','Segment'],axis=1,inplace=True)\n",
    "test=pd.DataFrame(sc.transform(test),columns=test.columns)"
   ]
  },
  {
   "cell_type": "code",
   "execution_count": 145,
   "id": "b4d9c4d8",
   "metadata": {},
   "outputs": [],
   "source": [
    "prediction=model.predict(test)"
   ]
  },
  {
   "cell_type": "code",
   "execution_count": 148,
   "id": "c1a4f122",
   "metadata": {},
   "outputs": [],
   "source": [
    "prediction=pd.DataFrame(prediction,columns=['Sale Price'])"
   ]
  },
  {
   "cell_type": "code",
   "execution_count": null,
   "id": "933a7a90",
   "metadata": {},
   "outputs": [],
   "source": [
    "prediction.to_csv(\"Submission.csv\",index=False,header=True)"
   ]
  },
  {
   "cell_type": "code",
   "execution_count": 149,
   "id": "47414f8a",
   "metadata": {},
   "outputs": [],
   "source": [
    "pd.concat([test,prediction],axis=1).to_csv(\"Submission.csv\",index=False,header=True)"
   ]
  },
  {
   "cell_type": "code",
   "execution_count": null,
   "id": "d29d79a8",
   "metadata": {},
   "outputs": [],
   "source": []
  }
 ],
 "metadata": {
  "kernelspec": {
   "display_name": "Python 3 (ipykernel)",
   "language": "python",
   "name": "python3"
  },
  "language_info": {
   "codemirror_mode": {
    "name": "ipython",
    "version": 3
   },
   "file_extension": ".py",
   "mimetype": "text/x-python",
   "name": "python",
   "nbconvert_exporter": "python",
   "pygments_lexer": "ipython3",
   "version": "3.10.4"
  }
 },
 "nbformat": 4,
 "nbformat_minor": 5
}
